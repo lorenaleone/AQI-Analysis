{
 "cells": [
  {
   "cell_type": "markdown",
   "id": "254fdaf6",
   "metadata": {},
   "source": [
    "### Importing data and libraries"
   ]
  },
  {
   "cell_type": "code",
   "execution_count": 1,
   "id": "a3605d53",
   "metadata": {},
   "outputs": [],
   "source": [
    "# Importing libraries\n",
    "import pandas as pd\n",
    "import numpy as np\n",
    "import os\n",
    "import matplotlib.pyplot as plt\n",
    "import seaborn as sns\n",
    "import scipy\n",
    "import json\n",
    "import folium"
   ]
  },
  {
   "cell_type": "code",
   "execution_count": 2,
   "id": "5ea52cdb",
   "metadata": {},
   "outputs": [],
   "source": [
    "# Importing JSON data from the file\n",
    "geo = r'C:\\Users\\loren\\Desktop\\Career Foundry\\2. Data Immersion Course\\A6 Advanced Analytics & Dashboard Design\\08-2023 Air Quality Analysis\\02 Data\\world-countries.json'"
   ]
  },
  {
   "cell_type": "markdown",
   "id": "2791e7b2",
   "metadata": {},
   "source": [
    "> I modified a country name (Russia) on JSON file directly on notepad to match with the dataframe country name (Russian Federation)"
   ]
  },
  {
   "cell_type": "code",
   "execution_count": 3,
   "id": "eef4ac00",
   "metadata": {},
   "outputs": [],
   "source": [
    "# Importing data sets using the path as string\n",
    "path = r'C:\\Users\\loren\\Desktop\\Career Foundry\\2. Data Immersion Course\\A6 Advanced Analytics & Dashboard Design\\08-2023 Air Quality Analysis\\02 Data'\n",
    "df = pd.read_csv(os.path.join(path, 'AQI_Merged.csv'))"
   ]
  },
  {
   "cell_type": "markdown",
   "id": "af34bb5d",
   "metadata": {},
   "source": [
    "> I modified the merged  df on the previous task to include a new variable (Forested Area) and changed the Hyphotesis to investigate this new variable instead of GDP"
   ]
  },
  {
   "cell_type": "code",
   "execution_count": null,
   "id": "79427b75",
   "metadata": {},
   "outputs": [],
   "source": []
  },
  {
   "cell_type": "markdown",
   "id": "5f438483",
   "metadata": {},
   "source": [
    "### Data Wrangling"
   ]
  },
  {
   "cell_type": "markdown",
   "id": "c87cbccc",
   "metadata": {},
   "source": [
    "No wrangling procedures needed"
   ]
  },
  {
   "cell_type": "markdown",
   "id": "68d06fe6",
   "metadata": {},
   "source": [
    "### Consistency Checks"
   ]
  },
  {
   "cell_type": "code",
   "execution_count": null,
   "id": "c76fb9c7",
   "metadata": {},
   "outputs": [],
   "source": [
    "# Getting some descriptive statistics for the numeric values\n",
    "df.describe()\n",
    "\n",
    "# It seems there is no anomaly"
   ]
  },
  {
   "cell_type": "code",
   "execution_count": null,
   "id": "49ee9f4f",
   "metadata": {},
   "outputs": [],
   "source": [
    "# Checking for variables with mixed data types\n",
    "\n",
    "for col in df.columns.tolist():\n",
    "  weird = (df[[col]].applymap(type) != df[[col]].iloc[0].apply(type)).any(axis = 1)\n",
    "  if len (df[weird]) > 0:\n",
    "   print (col)\n",
    "\n",
    "# There are no mixed data type"
   ]
  },
  {
   "cell_type": "code",
   "execution_count": null,
   "id": "302e4157",
   "metadata": {},
   "outputs": [],
   "source": [
    "# Checking how many NaN values in each variable\n",
    "df.isnull().sum()\n",
    "\n",
    "# There are no missing values"
   ]
  },
  {
   "cell_type": "code",
   "execution_count": null,
   "id": "e454afdb",
   "metadata": {},
   "outputs": [],
   "source": [
    "# Looking for duplicates\n",
    "df[df.duplicated()]\n",
    "\n",
    "# No dups found"
   ]
  },
  {
   "cell_type": "markdown",
   "id": "d3d3cdeb",
   "metadata": {},
   "source": [
    "### Choropleth Map"
   ]
  },
  {
   "cell_type": "code",
   "execution_count": null,
   "id": "e825e9e9",
   "metadata": {},
   "outputs": [],
   "source": [
    "# Creating subset #1 to use on the choropleth maps\n",
    "map1 = df.groupby('Country')['Forested Area'].mean().reset_index()"
   ]
  },
  {
   "cell_type": "code",
   "execution_count": null,
   "id": "a8054688",
   "metadata": {
    "scrolled": true
   },
   "outputs": [],
   "source": [
    "# Creating choropleth map #1\n",
    "map = folium.Map(location = [0, 0], zoom_start = 1)\n",
    "\n",
    "folium.Choropleth(\n",
    "    geo_data = geo, \n",
    "    data = map1,\n",
    "    columns = ['Country', 'Forested Area'],\n",
    "    key_on = 'feature.properties.name',\n",
    "    fill_color = 'Greens', fill_opacity=0.7, line_opacity=0.2,\n",
    "    nan_fill_color= 'grey',\n",
    "    legend_name = \"Forested Area\").add_to(map)\n",
    "\n",
    "folium.LayerControl().add_to(map)\n",
    "\n",
    "map"
   ]
  },
  {
   "cell_type": "code",
   "execution_count": null,
   "id": "f6315844",
   "metadata": {},
   "outputs": [],
   "source": [
    "map.save('choropleth_map_1.html')"
   ]
  },
  {
   "cell_type": "code",
   "execution_count": null,
   "id": "decc4359",
   "metadata": {},
   "outputs": [],
   "source": [
    "# Creating subset #1 to use on the choropleth maps\n",
    "map2 = df.groupby('Country')['AQI Value'].mean().reset_index()"
   ]
  },
  {
   "cell_type": "code",
   "execution_count": null,
   "id": "113f0009",
   "metadata": {},
   "outputs": [],
   "source": [
    "# Creating choropleth map #2\n",
    "map = folium.Map(location = [0, 0], zoom_start = 1)\n",
    "\n",
    "folium.Choropleth(\n",
    "    geo_data = geo, \n",
    "    data = map2,\n",
    "    columns = ['Country','AQI Value'],\n",
    "    key_on = 'feature.properties.name',\n",
    "    fill_color = 'Blues_r', fill_opacity=0.7, line_opacity=0.2,\n",
    "    nan_fill_color= 'grey',\n",
    "    legend_name = \"AQI Value\").add_to(map)\n",
    "\n",
    "folium.LayerControl().add_to(map)\n",
    "\n",
    "map"
   ]
  },
  {
   "cell_type": "code",
   "execution_count": null,
   "id": "d742790d",
   "metadata": {},
   "outputs": [],
   "source": [
    "map.save('choropleth_map.html')"
   ]
  },
  {
   "cell_type": "markdown",
   "id": "0257b863",
   "metadata": {},
   "source": [
    "> The higher the AQI value, the greater the level of air pollution and the greater the health concern, so dark blue areas means a good quality air.\n",
    "\n",
    "> Grey areas means there was no data for those countries"
   ]
  },
  {
   "cell_type": "code",
   "execution_count": null,
   "id": "6e432c2f",
   "metadata": {},
   "outputs": [],
   "source": [
    "# Creating a scatter plot to check correlation\n",
    "sns.lmplot(x = 'AQI Value', y = 'Forested Area', data = df)"
   ]
  },
  {
   "cell_type": "markdown",
   "id": "20c31842",
   "metadata": {},
   "source": [
    "### Does the analysis answer any of your existing research questions?"
   ]
  },
  {
   "cell_type": "markdown",
   "id": "f9093724",
   "metadata": {},
   "source": [
    "No, the analysis made on this notebook was to check which hyphotesis would be confirmed. Surprisingly, Forested Area and AQI Values are not correlated, so the Null Hyphotesis was confirmed:\n",
    "\n",
    "Null Hypothesis (H0): There is no correlation between a country's forested area and its AQI values."
   ]
  },
  {
   "cell_type": "markdown",
   "id": "2b67cf64",
   "metadata": {},
   "source": [
    "### Does the analysis lead you to any new research questions?"
   ]
  },
  {
   "cell_type": "markdown",
   "id": "a565c9b8",
   "metadata": {},
   "source": [
    "A potential new research questions would be:\n",
    "\n",
    "\"What are the primary contributors to high AQI values in regions with high percentage of forested area?\""
   ]
  }
 ],
 "metadata": {
  "kernelspec": {
   "display_name": "Python 3 (ipykernel)",
   "language": "python",
   "name": "python3"
  },
  "language_info": {
   "codemirror_mode": {
    "name": "ipython",
    "version": 3
   },
   "file_extension": ".py",
   "mimetype": "text/x-python",
   "name": "python",
   "nbconvert_exporter": "python",
   "pygments_lexer": "ipython3",
   "version": "3.10.9"
  }
 },
 "nbformat": 4,
 "nbformat_minor": 5
}
